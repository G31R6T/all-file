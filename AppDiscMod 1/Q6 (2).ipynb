{
 "cells": [
  {
   "cell_type": "code",
   "execution_count": 3,
   "metadata": {},
   "outputs": [],
   "source": [
    "R.<x> = PolynomialRing(IntegerModRing(11))\n",
    "L = []\n",
    "for p in [0..10]:\n",
    "    for q in [0..10]:\n",
    "        for m in [0..10]: \n",
    "            f = x^4 + p*x^2 + q \n",
    "            g = x^2 + m*x + 2\n",
    "            r = f.quo_rem(g)[1]\n",
    "            if r == 0:\n",
    "                 L.append((p, q, m))"
   ]
  },
  {
   "cell_type": "code",
   "execution_count": 4,
   "metadata": {},
   "outputs": [
    {
     "data": {
      "text/plain": [
       "[(0, 4, 2),\n",
       " (0, 4, 9),\n",
       " (0, 7, 0),\n",
       " (1, 4, 5),\n",
       " (1, 4, 6),\n",
       " (1, 9, 0),\n",
       " (2, 0, 0),\n",
       " (3, 2, 0),\n",
       " (3, 4, 1),\n",
       " (3, 4, 10),\n",
       " (4, 4, 0),\n",
       " (5, 6, 0),\n",
       " (6, 4, 3),\n",
       " (6, 4, 8),\n",
       " (6, 8, 0),\n",
       " (7, 10, 0),\n",
       " (8, 1, 0),\n",
       " (9, 3, 0),\n",
       " (10, 4, 4),\n",
       " (10, 4, 7),\n",
       " (10, 5, 0)]"
      ]
     },
     "execution_count": 4,
     "metadata": {},
     "output_type": "execute_result"
    }
   ],
   "source": [
    "L"
   ]
  },
  {
   "cell_type": "code",
   "execution_count": null,
   "metadata": {},
   "outputs": [],
   "source": []
  }
 ],
 "metadata": {
  "kernelspec": {
   "display_name": "SageMath 9.2",
   "language": "sage",
   "name": "sagemath"
  },
  "language_info": {
   "codemirror_mode": {
    "name": "ipython",
    "version": 3
   },
   "file_extension": ".py",
   "mimetype": "text/x-python",
   "name": "python",
   "nbconvert_exporter": "python",
   "pygments_lexer": "ipython3",
   "version": "3.7.7"
  }
 },
 "nbformat": 4,
 "nbformat_minor": 4
}
