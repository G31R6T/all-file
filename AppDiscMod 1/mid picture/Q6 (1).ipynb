{
 "cells": [
  {
   "cell_type": "code",
   "execution_count": 47,
   "metadata": {},
   "outputs": [
    {
     "data": {
      "text/plain": [
       "[0, 2, 2, 5, 2, 5, 5, 0, 2, 2, 5]"
      ]
     },
     "execution_count": 47,
     "metadata": {},
     "output_type": "execute_result"
    }
   ],
   "source": [
    "#Squares mod 7.\n",
    "[2*x^3 % 7 for x in [0..10] ]\n"
   ]
  },
  {
   "cell_type": "code",
   "execution_count": 48,
   "metadata": {},
   "outputs": [],
   "source": [
    "def is_doublecube_modp(x, p):\n",
    "    for y in [0..p-1]:\n",
    "        if(2*y^3 - x) % p == 0:\n",
    "            return True\n",
    "        return False"
   ]
  },
  {
   "cell_type": "code",
   "execution_count": 51,
   "metadata": {},
   "outputs": [],
   "source": [
    "def do_we_have_six_consecutive_modp(p):\n",
    "    for k in [0..3*p]:\n",
    "        if is_square_modp(k,p) and is_square_modp(k+1,p) and is_square_modp(k+2,p) and is_square_modp(k+3,p)and is_square_modp(k+4,p):\n",
    "            return True\n",
    "        return False"
   ]
  },
  {
   "cell_type": "code",
   "execution_count": 52,
   "metadata": {
    "scrolled": true
   },
   "outputs": [
    {
     "data": {
      "text/plain": [
       "[(3, False),\n",
       " (5, False),\n",
       " (7, False),\n",
       " (11, False),\n",
       " (13, False),\n",
       " (17, False),\n",
       " (19, False),\n",
       " (23, False),\n",
       " (29, False),\n",
       " (31, False),\n",
       " (37, False),\n",
       " (41, False),\n",
       " (43, False),\n",
       " (47, False),\n",
       " (53, False),\n",
       " (59, False),\n",
       " (61, False),\n",
       " (67, False),\n",
       " (71, False),\n",
       " (73, False),\n",
       " (79, False),\n",
       " (83, False),\n",
       " (89, False),\n",
       " (97, False)]"
      ]
     },
     "execution_count": 52,
     "metadata": {},
     "output_type": "execute_result"
    }
   ],
   "source": [
    "[(p, do_we_have_six_consecutive_modp(p)) for p in [1..100] if is_prime(p) and p%2!=0]"
   ]
  },
  {
   "cell_type": "code",
   "execution_count": 53,
   "metadata": {},
   "outputs": [
    {
     "data": {
      "text/plain": [
       "[(0, True),\n",
       " (1, False),\n",
       " (2, False),\n",
       " (3, False),\n",
       " (4, False),\n",
       " (5, False),\n",
       " (6, False),\n",
       " (7, True),\n",
       " (8, False),\n",
       " (9, False),\n",
       " (10, False)]"
      ]
     },
     "execution_count": 53,
     "metadata": {},
     "output_type": "execute_result"
    }
   ],
   "source": [
    "[(x, is_doublecube_modp(x,7)) for x in [0..10]]"
   ]
  },
  {
   "cell_type": "code",
   "execution_count": 54,
   "metadata": {},
   "outputs": [
    {
     "data": {
      "text/plain": [
       "[(0, True),\n",
       " (1, False),\n",
       " (2, False),\n",
       " (3, False),\n",
       " (4, False),\n",
       " (5, False),\n",
       " (6, False),\n",
       " (7, False),\n",
       " (8, False),\n",
       " (9, False),\n",
       " (10, False),\n",
       " (11, True),\n",
       " (12, False),\n",
       " (13, False),\n",
       " (14, False)]"
      ]
     },
     "execution_count": 54,
     "metadata": {},
     "output_type": "execute_result"
    }
   ],
   "source": [
    "p = 7\n",
    "[(x, is_doublecube_modp(x,11)) for x in [0..2*p]]"
   ]
  },
  {
   "cell_type": "code",
   "execution_count": null,
   "metadata": {},
   "outputs": [],
   "source": []
  },
  {
   "cell_type": "code",
   "execution_count": null,
   "metadata": {},
   "outputs": [],
   "source": []
  }
 ],
 "metadata": {
  "kernelspec": {
   "display_name": "SageMath 9.2",
   "language": "sage",
   "name": "sagemath"
  },
  "language_info": {
   "codemirror_mode": {
    "name": "ipython",
    "version": 3
   },
   "file_extension": ".py",
   "mimetype": "text/x-python",
   "name": "python",
   "nbconvert_exporter": "python",
   "pygments_lexer": "ipython3",
   "version": "3.7.7"
  }
 },
 "nbformat": 4,
 "nbformat_minor": 4
}
