{
 "metadata": {
  "kernelspec": {
   "display_name": "SageMath",
   "language": "python",
   "name": "sagemath"
  },
  "language_info": {
   "codemirror_mode": {
    "name": "ipython",
    "version": 2
   },
   "file_extension": ".py",
   "mimetype": "text/x-python",
   "name": "python",
   "nbconvert_exporter": "python",
   "pygments_lexer": "ipython2",
   "version": "2.7.12+"
  }
 },
 "nbformat": 4,
 "nbformat_minor": 4,
 "cells": [
  {
   "metadata": {
    "collapsed": false
   },
   "cell_type": "code",
   "source": [
    "%auto\n",
    "typeset_mode(True, display=False)"
   ]
  },
  {
   "metadata": {
    "collapsed": false
   },
   "cell_type": "code",
   "source": [
    "%html\n",
    "<p>Problems 1 and 2 should be straightforward - will work them out on paper and upload to Teams</p>\n",
    "\n",
    "<p>Problem 3</p>"
   ]
  },
  {
   "metadata": {
    "collapsed": false
   },
   "cell_type": "code",
   "source": [
    "# A \n",
    "R.<x> = PolynomialRing(QQ)"
   ]
  },
  {
   "metadata": {
    "collapsed": false
   },
   "cell_type": "code",
   "source": [
    "G = R.lagrange_polynomial([(0, 1), (1, 2), (2, 4), (3, 8), (4, 16)])\n",
    "G"
   ]
  },
  {
   "metadata": {
    "collapsed": false
   },
   "cell_type": "code",
   "source": [
    "G(5), G(6)"
   ]
  },
  {
   "metadata": {
    "collapsed": false
   },
   "cell_type": "code",
   "source": [
    "# B\n",
    "R.<x> = PolynomialRing(IntegerModRing(7))\n",
    "G = R.lagrange_polynomial([(0, 1), (1, 2), (2, 4), (3, 8), (4, 16)])\n",
    "G, G(5), G(6)"
   ]
  },
  {
   "metadata": {
    "collapsed": false
   },
   "cell_type": "code",
   "source": [
    "# C\n",
    "# No such polynomial: 0 = 4 (mod 4), but G(0) = 1 != 0 = 16 = G(4) (mod 4)"
   ]
  },
  {
   "metadata": {
    "collapsed": false
   },
   "cell_type": "code",
   "source": [
    "%html\n",
    "<p>Problem 4</p>"
   ]
  },
  {
   "metadata": {
    "collapsed": false
   },
   "cell_type": "code",
   "source": [
    "R.<x> = PolynomialRing(IntegerModRing(13))\n",
    "L = []\n",
    "for p in [0..12]:\n",
    "    for q in [0..12]:\n",
    "        for m in [0..12]: \n",
    "            f = x^4 + p*x + q \n",
    "            g = x^2 + m*x + 1\n",
    "            r = f.quo_rem(g)[1]\n",
    "            if r == 0:\n",
    "                 L.append((p, q, m))"
   ]
  },
  {
   "metadata": {
    "collapsed": false
   },
   "cell_type": "code",
   "source": [
    "L"
   ]
  },
  {
   "metadata": {
    "collapsed": false
   },
   "cell_type": "code",
   "source": [
    "%html\n",
    "<p>Problem 5</p>"
   ]
  },
  {
   "metadata": {
    "collapsed": false
   },
   "cell_type": "code",
   "source": [
    "# Functions from previous weeks\n",
    "def distW(L1, L2):\n",
    "    n = len(L1)\n",
    "    s = 0\n",
    "    for i in range(n):\n",
    "        if L1[i] != L2[i]:\n",
    "            s += 1\n",
    "    return s\n",
    "def distC(H):\n",
    "    return min ([distW(x, y) for x in H for y in H if x!=y])"
   ]
  },
  {
   "metadata": {
    "collapsed": false
   },
   "cell_type": "code",
   "source": [
    "K = IntegerModRing(5)\n",
    "code = [(a, b, c, a+b+c, a + 2*b + a*b*c) for a in K for b in K for c in K]"
   ]
  },
  {
   "metadata": {
    "collapsed": false
   },
   "cell_type": "code",
   "source": [
    "distC(code)"
   ]
  },
  {
   "metadata": {
    "collapsed": false
   },
   "cell_type": "code",
   "source": [
    "L = []\n",
    "for x in code:\n",
    "    for y in code:\n",
    "        if distW(x, y) == 2 and x != y:\n",
    "            L.append((x,y))"
   ]
  },
  {
   "metadata": {
    "collapsed": false
   },
   "cell_type": "code",
   "source": [
    "# Now L contains all pairs that are only distance 2 apart. We have to remove some of the codewords so that we also remove at least one element from each mentioned pair. \u200b\n",
    "# Beelow there's a possible solution based on graphs. Don't worry, this part isn't worth too many points"
   ]
  },
  {
   "metadata": {
    "collapsed": false
   },
   "cell_type": "code",
   "source": [
    "G = Graph([code, lambda i,j: (i, j) in L])"
   ]
  },
  {
   "metadata": {
    "collapsed": false
   },
   "cell_type": "code",
   "source": [
    "G.show()"
   ]
  },
  {
   "metadata": {
    "collapsed": false
   },
   "cell_type": "code",
   "source": [
    "H = G.vertex_cover()"
   ]
  },
  {
   "metadata": {
    "collapsed": false
   },
   "cell_type": "code",
   "source": [
    "len(H)"
   ]
  }
 ]
}