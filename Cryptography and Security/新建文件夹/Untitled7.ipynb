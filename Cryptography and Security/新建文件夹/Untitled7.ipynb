{
 "cells": [
  {
   "cell_type": "code",
   "execution_count": 32,
   "metadata": {},
   "outputs": [
    {
     "data": {
      "text/plain": [
       "111000"
      ]
     },
     "execution_count": 32,
     "metadata": {},
     "output_type": "execute_result"
    }
   ],
   "source": [
    "10^3 + 10^4 + 10^5"
   ]
  },
  {
   "cell_type": "code",
   "execution_count": 33,
   "metadata": {},
   "outputs": [
    {
     "data": {
      "text/plain": [
       "12"
      ]
     },
     "execution_count": 33,
     "metadata": {},
     "output_type": "execute_result"
    }
   ],
   "source": [
    "ceil(log(111000, 3).n()) + 1"
   ]
  },
  {
   "cell_type": "code",
   "execution_count": 34,
   "metadata": {},
   "outputs": [],
   "source": [
    "def f(k):\n",
    "    return ((k+12)^2 ) % 91"
   ]
  },
  {
   "cell_type": "code",
   "execution_count": 35,
   "metadata": {},
   "outputs": [],
   "source": [
    "def to_char(number):\n",
    "    return chr(number + 97)\n"
   ]
  },
  {
   "cell_type": "code",
   "execution_count": 36,
   "metadata": {},
   "outputs": [],
   "source": [
    "def to_int(char):\n",
    "    return ord(char)% 26"
   ]
  },
  {
   "cell_type": "code",
   "execution_count": 37,
   "metadata": {},
   "outputs": [],
   "source": [
    "def encript(string):\n",
    "    enc = \"\"\n",
    "    i = 0\n",
    "    for ch in string:\n",
    "        enc += chr((((ord(ch) - 97)+ f(i))% 26)+ 97 )\n",
    "        i+= 1\n",
    "    return enc    "
   ]
  },
  {
   "cell_type": "code",
   "execution_count": 38,
   "metadata": {},
   "outputs": [],
   "source": [
    "def decript(string):\n",
    "    enc =\"\"\n",
    "    i = 0\n",
    "    for ch in string:\n",
    "        enc += chr((((ord(ch) - 97)+ f(i))% 26)+ 97 )\n",
    "    return enc\n",
    "        "
   ]
  },
  {
   "cell_type": "code",
   "execution_count": null,
   "metadata": {},
   "outputs": [],
   "source": []
  },
  {
   "cell_type": "code",
   "execution_count": 39,
   "metadata": {},
   "outputs": [],
   "source": [
    "def indexOfLetter(c):\n",
    "    return ord(c) - 97\n",
    "def letterWithIndex(i):\n",
    "    return chr(i+97)\n",
    "def shiftChar(c, shift):\n",
    "    i = indexOfLetter(c)\n",
    "    new = (i + shift) % 26\n",
    "    return letterWithIndex(new)\n",
    "\n"
   ]
  },
  {
   "cell_type": "code",
   "execution_count": 40,
   "metadata": {},
   "outputs": [],
   "source": [
    "def shifChar(c):\n",
    "    i = indexOfLetter(c)\n",
    "    new = ((k+12)^2 ) % 91\n",
    "    return letterWithIndex(new)"
   ]
  },
  {
   "cell_type": "code",
   "execution_count": 45,
   "metadata": {},
   "outputs": [
    {
     "ename": "SyntaxError",
     "evalue": "invalid syntax (<ipython-input-45-ef08f8d11586>, line 5)",
     "output_type": "error",
     "traceback": [
      "\u001b[0;36m  File \u001b[0;32m\"<ipython-input-45-ef08f8d11586>\"\u001b[0;36m, line \u001b[0;32m5\u001b[0m\n\u001b[0;31m    shift = f(i) if b_Encrypt ==\"ept\" or b_Encrypt else -f(i) if (b_Encrypt == :\"dpt\"or b_Encrypt ==\"ept\")\u001b[0m\n\u001b[0m                                                                               ^\u001b[0m\n\u001b[0;31mSyntaxError\u001b[0m\u001b[0;31m:\u001b[0m invalid syntax\n"
     ]
    }
   ],
   "source": [
    "def dig(string,b_Encrypt = True):\n",
    "    enc = \"\"\n",
    "    i=0\n",
    "    for ch in string:\n",
    "        shift = f(i) if b_Encrypt ==\"ept\" or b_Encrypt else -f(i) if (b_Encrypt == :\"dpt\"or b_Encrypt ==\"ept\")\n",
    "        ecn +=shiftChar(ch)\n",
    "    return enc"
   ]
  },
  {
   "cell_type": "code",
   "execution_count": null,
   "metadata": {},
   "outputs": [],
   "source": [
    "def indexOfLetter(c):\n",
    "    return ord(c) - 65\n",
    "def letterWithIndex(i):\n",
    "    return chr(i+65)\n",
    "def shiftChar(c,shift):\n",
    "    i = indexOfLetter(c)\n",
    "    if    \n",
    "    return letterWithIndex(new)\n",
    "\t\n",
    "def shiftCipher(s,k):\n",
    "    ret = \"\"\n",
    "    for c in s:\n",
    "        ret += shiftChar(c,k)\n",
    "    return ret\n",
    "\t\n",
    "def vigenere(s,shiftList):\n",
    "    ret = \"\"\n",
    "    # Current position in the shiftList\n",
    "    pos = 0\n",
    "    n = len(shiftList)\n",
    "    for c in s:\n",
    "        new = shiftChar(c,shiftList[pos])\n",
    "        ret += new\n",
    "        #Add one, restart if  list is over\n",
    "        pos = (pos + 1) % n\n",
    "    return ret"
   ]
  },
  {
   "cell_type": "code",
   "execution_count": 44,
   "metadata": {},
   "outputs": [],
   "source": []
  },
  {
   "cell_type": "code",
   "execution_count": 16,
   "metadata": {},
   "outputs": [],
   "source": [
    "#to guess\n",
    "def repetitionsInString(s,length=2):\n",
    "    n = len(s)\n",
    "    ret = [(i,j) for i in range(0, n-length) for j in range(i+1,n-length+1) if s[i:(i+length)]==s[j:(j+length)]]\n",
    "    return ret"
   ]
  },
  {
   "cell_type": "code",
   "execution_count": 17,
   "metadata": {},
   "outputs": [],
   "source": [
    "def guessedKeyLength(ciphertext,length=2):\n",
    "    differences = [j-i for (i,j) in repetitionsInString(ciphertext,length)]\n",
    "    return gcd(differences)"
   ]
  },
  {
   "cell_type": "code",
   "execution_count": 19,
   "metadata": {},
   "outputs": [],
   "source": [
    "c = \"wrwerwertedfgfdgsdfasdasd\""
   ]
  },
  {
   "cell_type": "code",
   "execution_count": 20,
   "metadata": {},
   "outputs": [
    {
     "data": {
      "text/plain": [
       "3"
      ]
     },
     "execution_count": 20,
     "metadata": {},
     "output_type": "execute_result"
    }
   ],
   "source": [
    "guessedKeyLength(c)"
   ]
  },
  {
   "cell_type": "code",
   "execution_count": 21,
   "metadata": {},
   "outputs": [],
   "source": [
    "s = \"QIARODEUYCBEUTCDEUYFGFMYCDEULUNEUYCDSJZQABUYCDEUYCDESKUSBRYCDEUMCDEUYOB\\\n",
    "EZSXOZUOALEUYCDMRQCDEUYCYISPCDEUYCDEUYBULKVYUKNBWREUYCDXYXUVHUQESEUYCDEU\\\n",
    "YCDESSCDEUYHMQKPRXIENXUEUYCDXUYCDEUYCDEUYCDEEYCDEURGREUYCDEUYCDHIMXDEUYC\\\n",
    "ZMXFZDEUYCGEUYCDEUYCDEUYCDEUYCDEUYCDSJYCDEUYCDEUBCDEUYCDEUYADEUYCKEUYCDK\\\n",
    "NUFYEUYCDDUYCDEEJHZSTYRJXBZZOEEEVDEUYCQGNVCDEUYMLEUYCDOSJPPTKFQEEUYCDEUY\\\n",
    "CDJMXSMDRYCDEUUKMEUYCDHIXQ\""
   ]
  },
  {
   "cell_type": "code",
   "execution_count": 23,
   "metadata": {},
   "outputs": [
    {
     "ename": "TypeError",
     "evalue": "unable to convert rational 445/3 to an integer",
     "output_type": "error",
     "traceback": [
      "\u001b[0;31m---------------------------------------------------------------------------\u001b[0m",
      "\u001b[0;31mTypeError\u001b[0m                                 Traceback (most recent call last)",
      "\u001b[0;32m<ipython-input-23-9f188860b165>\u001b[0m in \u001b[0;36m<module>\u001b[0;34m\u001b[0m\n\u001b[1;32m      2\u001b[0m \u001b[0;31m#get 5 which is the length of the KEY\u001b[0m\u001b[0;34m\u001b[0m\u001b[0;34m\u001b[0m\u001b[0;34m\u001b[0m\u001b[0m\n\u001b[1;32m      3\u001b[0m \u001b[0;31m# step 2\u001b[0m\u001b[0;34m\u001b[0m\u001b[0;34m\u001b[0m\u001b[0;34m\u001b[0m\u001b[0m\n\u001b[0;32m----> 4\u001b[0;31m \u001b[0mc_at_multiples_of_3\u001b[0m \u001b[0;34m=\u001b[0m \u001b[0;34m[\u001b[0m\u001b[0ms\u001b[0m\u001b[0;34m[\u001b[0m\u001b[0mInteger\u001b[0m\u001b[0;34m(\u001b[0m\u001b[0;36m3\u001b[0m\u001b[0;34m)\u001b[0m\u001b[0;34m*\u001b[0m\u001b[0mk\u001b[0m\u001b[0;34m]\u001b[0m \u001b[0;32mfor\u001b[0m \u001b[0mk\u001b[0m \u001b[0;32min\u001b[0m \u001b[0mrange\u001b[0m\u001b[0;34m(\u001b[0m\u001b[0mInteger\u001b[0m\u001b[0;34m(\u001b[0m\u001b[0;36m0\u001b[0m\u001b[0;34m)\u001b[0m\u001b[0;34m,\u001b[0m \u001b[0mInteger\u001b[0m\u001b[0;34m(\u001b[0m\u001b[0;36m445\u001b[0m\u001b[0;34m)\u001b[0m\u001b[0;34m/\u001b[0m\u001b[0mInteger\u001b[0m\u001b[0;34m(\u001b[0m\u001b[0;36m3\u001b[0m\u001b[0;34m)\u001b[0m\u001b[0;34m)\u001b[0m\u001b[0;34m]\u001b[0m\u001b[0;34m\u001b[0m\u001b[0;34m\u001b[0m\u001b[0m\n\u001b[0m\u001b[1;32m      5\u001b[0m \u001b[0mSet\u001b[0m\u001b[0;34m(\u001b[0m\u001b[0mc_at_multiples_of_3\u001b[0m\u001b[0;34m)\u001b[0m\u001b[0;34m\u001b[0m\u001b[0;34m\u001b[0m\u001b[0m\n\u001b[1;32m      6\u001b[0m \u001b[0;34m{\u001b[0m\u001b[0mx\u001b[0m\u001b[0;34m:\u001b[0m\u001b[0mc_at_multiples_of_3\u001b[0m\u001b[0;34m.\u001b[0m\u001b[0mcount\u001b[0m\u001b[0;34m(\u001b[0m\u001b[0mx\u001b[0m\u001b[0;34m)\u001b[0m \u001b[0;32mfor\u001b[0m \u001b[0mx\u001b[0m \u001b[0;32min\u001b[0m \u001b[0;34m'RPOHUNKLVFGEQYXWSZMTJIABD'\u001b[0m\u001b[0;34m}\u001b[0m\u001b[0;34m\u001b[0m\u001b[0;34m\u001b[0m\u001b[0m\n",
      "\u001b[0;32m/opt/sagemath-9.2/local/lib/python3.7/site-packages/sage/rings/rational.pyx\u001b[0m in \u001b[0;36msage.rings.rational.Rational.__index__ (build/cythonized/sage/rings/rational.c:6734)\u001b[0;34m()\u001b[0m\n\u001b[1;32m    556\u001b[0m             \u001b[0;32mreturn\u001b[0m \u001b[0mint\u001b[0m\u001b[0;34m(\u001b[0m\u001b[0mself\u001b[0m\u001b[0;34m)\u001b[0m\u001b[0;34m\u001b[0m\u001b[0;34m\u001b[0m\u001b[0m\n\u001b[1;32m    557\u001b[0m \u001b[0;34m\u001b[0m\u001b[0m\n\u001b[0;32m--> 558\u001b[0;31m         \u001b[0;32mraise\u001b[0m \u001b[0mTypeError\u001b[0m\u001b[0;34m(\u001b[0m\u001b[0;34mf\"unable to convert rational {self} to an integer\"\u001b[0m\u001b[0;34m)\u001b[0m\u001b[0;34m\u001b[0m\u001b[0;34m\u001b[0m\u001b[0m\n\u001b[0m\u001b[1;32m    559\u001b[0m \u001b[0;34m\u001b[0m\u001b[0m\n\u001b[1;32m    560\u001b[0m     \u001b[0mcdef\u001b[0m \u001b[0m__set_value\u001b[0m\u001b[0;34m(\u001b[0m\u001b[0mself\u001b[0m\u001b[0;34m,\u001b[0m \u001b[0mx\u001b[0m\u001b[0;34m,\u001b[0m \u001b[0munsigned\u001b[0m \u001b[0mint\u001b[0m \u001b[0mbase\u001b[0m\u001b[0;34m)\u001b[0m\u001b[0;34m:\u001b[0m\u001b[0;34m\u001b[0m\u001b[0;34m\u001b[0m\u001b[0m\n",
      "\u001b[0;31mTypeError\u001b[0m: unable to convert rational 445/3 to an integer"
     ]
    }
   ],
   "source": [
    "guessedKeyLength(s,3)\n",
    "#get 3 which is the length of the KEY\n",
    "# step 2\n",
    "c_at_multiples_of_3 = [s[3*k] for k in range(0, 445/3)]\n",
    "Set(c_at_multiples_of_3)\n",
    "{x:c_at_multiples_of_3.count(x) for x in 'RPOHUNKLVFGEQYXWSZMTJIABD'}\n",
    "#get the first key\n",
    "#c_at_multiples_of_5 = [s[5*k+1] for k in range(0, 445/5)]\n",
    "#c_at_multiples_of_5 = [s[5*k+2] for k in range(0, 445/5)]\n",
    "#c_at_multiples_of_5 = [s[5*k+3] for k in range(0, 445/5)]\n",
    "#c_at_multiples_of_5 = [s[5*k+4] for k in range(0, 445/5)]"
   ]
  },
  {
   "cell_type": "code",
   "execution_count": null,
   "metadata": {},
   "outputs": [],
   "source": []
  }
 ],
 "metadata": {
  "kernelspec": {
   "display_name": "SageMath 9.2",
   "language": "sage",
   "name": "sagemath"
  },
  "language_info": {
   "codemirror_mode": {
    "name": "ipython",
    "version": 3
   },
   "file_extension": ".py",
   "mimetype": "text/x-python",
   "name": "python",
   "nbconvert_exporter": "python",
   "pygments_lexer": "ipython3",
   "version": "3.7.7"
  }
 },
 "nbformat": 4,
 "nbformat_minor": 4
}
