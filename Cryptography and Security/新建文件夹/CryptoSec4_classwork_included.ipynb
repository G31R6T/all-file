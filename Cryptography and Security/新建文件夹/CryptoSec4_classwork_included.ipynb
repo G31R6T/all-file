{
 "cells": [
  {
   "cell_type": "code",
   "execution_count": 0,
   "metadata": {
    "collapsed": false
   },
   "outputs": [
   ],
   "source": [
    "%auto\n",
    "typeset_mode(True, display=False)"
   ]
  },
  {
   "cell_type": "code",
   "execution_count": 0,
   "metadata": {
    "collapsed": false
   },
   "outputs": [
   ],
   "source": [
    "# One-time pad (will use this later)\n",
    "def encrypt_xor(plain, key):\n",
    "    n = min(len(plain), len(key))\n",
    "    ascii_codes = [ord(plain[i]) ^^ ord(key[i]) for i in range(n)]\n",
    "    return ''.join([chr(x) for x in ascii_codes])"
   ]
  },
  {
   "cell_type": "code",
   "execution_count": 0,
   "metadata": {
    "collapsed": false
   },
   "outputs": [
   ],
   "source": [
    "%html\n",
    "<p>From last time</p>\n",
    "<p>3. Let's make our own random number generator: Let $a_0$ a seven-digit number (seed). Then generate $a_{n+1}$ by taking the final 7 digits of $a_n^2$. Let our random sequence at position $n$ be 0 or 1 depending on whether $a_n$'s third digit is even or odd. Is this a good random function (how to check)? Write a function that computes the period length depending on the seed.</p>"
   ]
  },
  {
   "cell_type": "code",
   "execution_count": 0,
   "metadata": {
    "collapsed": false
   },
   "outputs": [
   ],
   "source": [
    "# Problem 3: to \n",
    "def third_dig(n):\n",
    "    return floor(n%100000 / 10000)"
   ]
  },
  {
   "cell_type": "code",
   "execution_count": 0,
   "metadata": {
    "collapsed": false
   },
   "outputs": [
   ],
   "source": [
    "(1234567 % 100000) / 10000.0"
   ]
  },
  {
   "cell_type": "code",
   "execution_count": 0,
   "metadata": {
    "collapsed": false
   },
   "outputs": [
   ],
   "source": [
    "# Third digit of 25: seven-digits 0000025"
   ]
  },
  {
   "cell_type": "code",
   "execution_count": 0,
   "metadata": {
    "collapsed": false
   },
   "outputs": [
   ],
   "source": [
    "third_dig(1234567)"
   ]
  },
  {
   "cell_type": "code",
   "execution_count": 0,
   "metadata": {
    "collapsed": false
   },
   "outputs": [
   ],
   "source": [
    "third_dig(1101111)"
   ]
  },
  {
   "cell_type": "code",
   "execution_count": 0,
   "metadata": {
    "collapsed": false
   },
   "outputs": [
   ],
   "source": [
    "third_dig(1234)"
   ]
  },
  {
   "cell_type": "code",
   "execution_count": 0,
   "metadata": {
    "collapsed": false
   },
   "outputs": [
   ],
   "source": [
    "# Parameters: seed, length\n",
    "def rand_seq(seed, N):\n",
    "    ret = []\n",
    "    last = seed\n",
    "    for i in range(N):\n",
    "        ret.append(third_dig(last) % 2)\n",
    "        last = (last^2) % 10^7\n",
    "    return ret"
   ]
  },
  {
   "cell_type": "code",
   "execution_count": 0,
   "metadata": {
    "collapsed": false
   },
   "outputs": [
   ],
   "source": [
    "rand_seq(1234567, 20)"
   ]
  },
  {
   "cell_type": "code",
   "execution_count": 0,
   "metadata": {
    "collapsed": false
   },
   "outputs": [
   ],
   "source": [
    "rand_seq(5, 20)"
   ]
  },
  {
   "cell_type": "code",
   "execution_count": 0,
   "metadata": {
    "collapsed": false
   },
   "outputs": [
   ],
   "source": [
    "def period_of_rand_seq(seed):\n",
    "    last = seed\n",
    "    L = []\n",
    "    N = 0\n",
    "    while last not in L:\n",
    "        L.append(last)\n",
    "        N += 1\n",
    "        last = (last^2) % 10^7\n",
    "        #print last\n",
    "    return N"
   ]
  },
  {
   "cell_type": "code",
   "execution_count": 0,
   "metadata": {
    "collapsed": false
   },
   "outputs": [
   ],
   "source": [
    "period_of_rand_seq(1234567)"
   ]
  },
  {
   "cell_type": "code",
   "execution_count": 0,
   "metadata": {
    "collapsed": false
   },
   "outputs": [
   ],
   "source": [
    "period_of_rand_seq(1)"
   ]
  },
  {
   "cell_type": "code",
   "execution_count": 0,
   "metadata": {
    "collapsed": false
   },
   "outputs": [
   ],
   "source": [
    "[period_of_rand_seq(K) for K in [1..10]]"
   ]
  },
  {
   "cell_type": "code",
   "execution_count": 0,
   "metadata": {
    "collapsed": false
   },
   "outputs": [
   ],
   "source": [
    "period_of_rand_seq(5)"
   ]
  },
  {
   "cell_type": "code",
   "execution_count": 0,
   "metadata": {
    "collapsed": false
   },
   "outputs": [
   ],
   "source": [
    "2890625^2"
   ]
  },
  {
   "cell_type": "code",
   "execution_count": 0,
   "metadata": {
    "collapsed": false
   },
   "outputs": [
   ],
   "source": [
    "5127657^2"
   ]
  },
  {
   "cell_type": "code",
   "execution_count": 0,
   "metadata": {
    "collapsed": false
   },
   "outputs": [
   ],
   "source": [
    "[period_of_rand_seq(K) for K in [91..100]]"
   ]
  },
  {
   "cell_type": "code",
   "execution_count": 0,
   "metadata": {
    "collapsed": false
   },
   "outputs": [
   ],
   "source": [
    "# Period not long enough -> not 'one-time'. Information leaked."
   ]
  },
  {
   "cell_type": "code",
   "execution_count": 0,
   "metadata": {
    "collapsed": false
   },
   "outputs": [
   ],
   "source": [
    "%html\n",
    "<h2>Goal: look into indistinguishability</h2>\n",
    "<p>\"Game\":&nbsp; two plaintexts and a single ciphertext are given. Guess which plainext the ciphertext corresponds to. If guesses siginificantly better than 50%: we are in trouble.</p>"
   ]
  },
  {
   "cell_type": "code",
   "execution_count": 0,
   "metadata": {
    "collapsed": false
   },
   "outputs": [
   ],
   "source": [
    "# Example 1. \n",
    "# Plaintexts: \"AAAAAAAA\", \"BBBBBBBB\" (or longer versions)\n",
    "# Method: XOR with pseudorandom function's output\n",
    "# Key: uniformly random integer between 1 and 10000\n",
    "# (Pseudo)randomness: take powers of seed, Output 0 if last digit: 0, 1, 2, 3, 4, output 1 if last digit is 5, 6, 7, 8, 9."
   ]
  },
  {
   "cell_type": "code",
   "execution_count": 0,
   "metadata": {
    "collapsed": false
   },
   "outputs": [
   ],
   "source": [
    "[2^k%10 for k in [1..10]]"
   ]
  },
  {
   "cell_type": "code",
   "execution_count": 0,
   "metadata": {
    "collapsed": false
   },
   "outputs": [
   ],
   "source": [
    "# E.g.\n",
    "def rand_gen_ex1(seed, N):\n",
    "    return [0 if (seed^k)%10 <5 else 1     for k in range(N)]"
   ]
  },
  {
   "cell_type": "code",
   "execution_count": 0,
   "metadata": {
    "collapsed": false
   },
   "outputs": [
   ],
   "source": [
    "rand_gen_ex1(2, 20)"
   ]
  },
  {
   "cell_type": "code",
   "execution_count": 0,
   "metadata": {
    "collapsed": false
   },
   "outputs": [
   ],
   "source": [
    "rand_gen_ex1(11, 20)"
   ]
  },
  {
   "cell_type": "code",
   "execution_count": 0,
   "metadata": {
    "collapsed": false
   },
   "outputs": [
   ],
   "source": [
    "rand_gen_ex1(1010, 20)"
   ]
  },
  {
   "cell_type": "code",
   "execution_count": 0,
   "metadata": {
    "collapsed": false
   },
   "outputs": [
   ],
   "source": [
    "def convert_binary_list_to_str(L):\n",
    "    ret = \"\"\n",
    "    for i in range(floor(len(L) / 8)):\n",
    "        ret += chr( sum([2^k * L[8*i+k] for k in range(8)] ) )\n",
    "    return ret"
   ]
  },
  {
   "cell_type": "code",
   "execution_count": 0,
   "metadata": {
    "collapsed": false
   },
   "outputs": [
   ],
   "source": [
    "ord(\"A\")"
   ]
  },
  {
   "cell_type": "code",
   "execution_count": 0,
   "metadata": {
    "collapsed": false
   },
   "outputs": [
   ],
   "source": [
    "65.digits(2)"
   ]
  },
  {
   "cell_type": "code",
   "execution_count": 0,
   "metadata": {
    "collapsed": false
   },
   "outputs": [
   ],
   "source": [
    "L = 65.digits(2) + [0]"
   ]
  },
  {
   "cell_type": "code",
   "execution_count": 0,
   "metadata": {
    "collapsed": false
   },
   "outputs": [
   ],
   "source": [
    "convert_binary_list_to_str(L)"
   ]
  },
  {
   "cell_type": "code",
   "execution_count": 0,
   "metadata": {
    "collapsed": false
   },
   "outputs": [
   ],
   "source": [
    "def output_random_ciphertext_ex1():\n",
    "    m0 = \"AAAAAAAA\"\n",
    "    m1 = \"BBBBBBBB\"\n",
    "    plain = m0 if randint(0,1) == 0 else m1\n",
    "    seed = randint(1, 10000)\n",
    "    L = rand_gen_ex1(seed, len(plain)*8)\n",
    "    k = convert_binary_list_to_str(L)\n",
    "    return encrypt_xor(plain, k), plain"
   ]
  },
  {
   "cell_type": "code",
   "execution_count": 0,
   "metadata": {
    "collapsed": false
   },
   "outputs": [
   ],
   "source": [
    "output_random_ciphertext_ex1()"
   ]
  },
  {
   "cell_type": "code",
   "execution_count": 0,
   "metadata": {
    "collapsed": false
   },
   "outputs": [
   ],
   "source": [
    "output_random_ciphertext_ex1()"
   ]
  },
  {
   "cell_type": "code",
   "execution_count": 0,
   "metadata": {
    "collapsed": false
   },
   "outputs": [
   ],
   "source": [
    "output_random_ciphertext_ex1()"
   ]
  },
  {
   "cell_type": "code",
   "execution_count": 0,
   "metadata": {
    "collapsed": false
   },
   "outputs": [
   ],
   "source": [
    "# Strategy 1: if AAAAAAAA or BBBBBBBB then I know for sure, otherwise guess\n",
    "def tipp(s):\n",
    "    L = [\"AAAAAAAA\", \"BBBBBBBB\"]\n",
    "    if s in L:\n",
    "        return s\n",
    "    else:\n",
    "        return L[randint(0,1)]"
   ]
  },
  {
   "cell_type": "code",
   "execution_count": 0,
   "metadata": {
    "collapsed": false
   },
   "outputs": [
   ],
   "source": [
    "def check_success_ratio(method, N):\n",
    "    ret = 0\n",
    "    for i in range(N):\n",
    "        c, m = output_random_ciphertext_ex1()\n",
    "        s = method(c)\n",
    "        if s == m:\n",
    "            ret += 1\n",
    "    return ret"
   ]
  },
  {
   "cell_type": "code",
   "execution_count": 0,
   "metadata": {
    "collapsed": false
   },
   "outputs": [
   ],
   "source": [
    "check_success_ratio(tipp, 1000)"
   ]
  },
  {
   "cell_type": "code",
   "execution_count": 0,
   "metadata": {
    "collapsed": false
   },
   "outputs": [
   ],
   "source": [
    "# brute force decrypt, try all keys\n",
    "def tipp2(s):\n",
    "    seed = 0\n",
    "    L = [\"AAAAAAAA\", \"BBBBBBBB\"]\n",
    "    finished = False\n",
    "    \n",
    "    while not finished:\n",
    "        L2 = rand_gen_ex1(seed, 64)\n",
    "        k = convert_binary_list_to_str(L2)\n",
    "        m = encrypt_xor(s, k)\n",
    "        if m in L:\n",
    "            finished = True\n",
    "        seed += 1\n",
    "    return m"
   ]
  },
  {
   "cell_type": "code",
   "execution_count": 0,
   "metadata": {
    "collapsed": false
   },
   "outputs": [
   ],
   "source": [
    "check_success_ratio(tipp2, 1000)"
   ]
  },
  {
   "cell_type": "code",
   "execution_count": 0,
   "metadata": {
    "collapsed": false
   },
   "outputs": [
   ],
   "source": [
    "# Example 2.\n",
    "# Plaintexts: \"AAAAAAAA\", \"BBBBBBBB\" (or longer versions)\n",
    "# Method: XOR with pseudorandom function's output\n",
    "# Key: uniformly random integer between 1 and 10000\n",
    "# (Pseudo)randomness: take powers of seed, Output 0 if _FIRST_ digit: 0, 1, 2, 3, 4, output 1 if _FIRST_ digit is 5, 6, 7, 8, 9."
   ]
  },
  {
   "cell_type": "code",
   "execution_count": 0,
   "metadata": {
    "collapsed": false
   },
   "outputs": [
   ],
   "source": [
    "def rand_gen_ex2(seed, N):\n",
    "    return [0 if str((seed^k))[0] in '01234' else 1     for k in range(N)]"
   ]
  },
  {
   "cell_type": "code",
   "execution_count": 0,
   "metadata": {
    "collapsed": false
   },
   "outputs": [
   ],
   "source": [
    "rand_gen_ex2(18, 20)"
   ]
  },
  {
   "cell_type": "code",
   "execution_count": 0,
   "metadata": {
    "collapsed": false
   },
   "outputs": [
   ],
   "source": [
    "[18^k for k in range(20)]"
   ]
  },
  {
   "cell_type": "code",
   "execution_count": 0,
   "metadata": {
    "collapsed": false
   },
   "outputs": [
   ],
   "source": [
    "def output_random_ciphertext_general(method):\n",
    "    m0 = \"AAAAAAAA\"\n",
    "    m1 = \"BBBBBBBB\"\n",
    "    plain = m0 if randint(0,1) == 0 else m1\n",
    "    seed = randint(1, 10000)\n",
    "    L = method(seed, len(plain)*8)\n",
    "    k = convert_binary_list_to_str(L)\n",
    "    return encrypt_xor(plain, k), plain"
   ]
  },
  {
   "cell_type": "code",
   "execution_count": 0,
   "metadata": {
    "collapsed": false
   },
   "outputs": [
   ],
   "source": [
    "output_random_ciphertext_general(rand_gen_ex2)"
   ]
  },
  {
   "cell_type": "code",
   "execution_count": 0,
   "metadata": {
    "collapsed": false
   },
   "outputs": [
   ],
   "source": [
    "def check_success_ratio(method_rand_gen, method_guess, N=100):\n",
    "    ret = 0\n",
    "    for i in range(N):\n",
    "        c, m = output_random_ciphertext_general(method_rand_gen)\n",
    "        s = method_guess(c)\n",
    "        if s == m:\n",
    "            ret += 1\n",
    "    return ret"
   ]
  },
  {
   "cell_type": "code",
   "execution_count": 0,
   "metadata": {
    "collapsed": false
   },
   "outputs": [
   ],
   "source": [
    "check_success_ratio(rand_gen_ex1, tipp, 1000)"
   ]
  },
  {
   "cell_type": "code",
   "execution_count": 0,
   "metadata": {
    "collapsed": false
   },
   "outputs": [
   ],
   "source": [
    "def guess_ex2(s):\n",
    "    seed = 0\n",
    "    L = [\"AAAAAAAA\", \"BBBBBBBB\"]\n",
    "    finished = False\n",
    "    \n",
    "    while not finished:\n",
    "        L2 = rand_gen_ex2(seed, 64)\n",
    "        k = convert_binary_list_to_str(L2)\n",
    "        m = encrypt_xor(s, k)\n",
    "        if m in L:\n",
    "            finished = True\n",
    "        seed += 1\n",
    "    return m"
   ]
  },
  {
   "cell_type": "code",
   "execution_count": 0,
   "metadata": {
    "collapsed": false
   },
   "outputs": [
   ],
   "source": [
    "check_success_ratio(rand_gen_ex2, guess_ex2, 100)"
   ]
  },
  {
   "cell_type": "code",
   "execution_count": 0,
   "metadata": {
    "collapsed": false
   },
   "outputs": [
   ],
   "source": [
    "# attempt 2:\n",
    "# First look at the 0-1 statistic of the output of psrandom seq. at specific position:\n",
    "def stats_pos(method, pos):\n",
    "    cnt = 0\n",
    "    for k in range(10000):\n",
    "        L = method(k, pos+1)\n",
    "        if L[pos]:\n",
    "            cnt += 1\n",
    "    return cnt"
   ]
  },
  {
   "cell_type": "code",
   "execution_count": 0,
   "metadata": {
    "collapsed": false
   },
   "outputs": [
   ],
   "source": [
    "stats_pos(rand_gen_ex2, 8)"
   ]
  },
  {
   "cell_type": "code",
   "execution_count": 0,
   "metadata": {
    "collapsed": false
   },
   "outputs": [
   ],
   "source": [
    "stats_pos(rand_gen_ex2, 20)"
   ]
  },
  {
   "cell_type": "code",
   "execution_count": 0,
   "metadata": {
    "collapsed": false
   },
   "outputs": [
   ],
   "source": [
    "# \"AAAAAAAA\" -> binary: [1, 0, 0, 0, 0, 0, 1, 0]*8\n",
    "# \"BBBBBBBB\" -> binary: [0, 1, 0, 0, 0, 0, 1, 0]*8\n",
    "def guess_ex2_v2(s):\n",
    "    L = [\"BBBBBBBB\", \"AAAAAAAA\"]\n",
    "    return L[ ord(s[3]) % 2]"
   ]
  },
  {
   "cell_type": "code",
   "execution_count": 0,
   "metadata": {
    "collapsed": false
   },
   "outputs": [
   ],
   "source": [
    "check_success_ratio(rand_gen_ex2, guess_ex2_v2, 10000)"
   ]
  }
 ],
 "metadata": {
  "kernelspec": {
   "display_name": "SageMath 9.2",
   "language": "sagemath",
   "metadata": {
    "cocalc": {
     "description": "Open-source mathematical software system",
     "priority": 10,
     "url": "https://www.sagemath.org/"
    }
   },
   "name": "sage-9.2",
   "resource_dir": "/ext/jupyter/kernels/sage-9.2"
  },
  "language_info": {
   "codemirror_mode": {
    "name": "ipython",
    "version": 2
   },
   "file_extension": ".py",
   "mimetype": "text/x-python",
   "name": "python",
   "nbconvert_exporter": "python",
   "pygments_lexer": "ipython2",
   "version": "2.7.12+"
  }
 },
 "nbformat": 4,
 "nbformat_minor": 4
}